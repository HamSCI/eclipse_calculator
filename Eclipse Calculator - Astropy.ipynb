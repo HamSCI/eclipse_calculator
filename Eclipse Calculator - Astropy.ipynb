{
 "cells": [
  {
   "cell_type": "code",
   "execution_count": 1,
   "metadata": {
    "collapsed": false,
    "deletable": true,
    "editable": true
   },
   "outputs": [
    {
     "name": "stdout",
     "output_type": "stream",
     "text": [
      "Populating the interactive namespace from numpy and matplotlib\n"
     ]
    }
   ],
   "source": [
    "%pylab inline\n",
    "import numpy as np\n",
    "\n",
    "import datetime\n",
    "\n",
    "from astropy import units as u\n",
    "from astropy.time import Time\n",
    "from astropy.coordinates import EarthLocation, AltAz, get_sun, get_moon\n",
    "from astropy import constants"
   ]
  },
  {
   "cell_type": "code",
   "execution_count": 2,
   "metadata": {
    "collapsed": true
   },
   "outputs": [],
   "source": [
    "def area_intersect(r_sun,r_moon,d):\n",
    "    \"\"\"\n",
    "    Calculate the area of intersecting circles with radii R\n",
    "    and r and separation d.\n",
    "\n",
    "    Reference:\n",
    "    Weisstein, Eric W. \"Circle-Circle Intersection.\"\n",
    "        From MathWorld--A Wolfram Web Resource.\n",
    "        http://mathworld.wolfram.com/Circle-CircleIntersection.html\n",
    "    \"\"\"\n",
    "    \n",
    "    intersect = d <= r_sun + r_moon\n",
    "    inset     = d <= np.abs(r_sun-r_moon)\n",
    "\n",
    "    if not intersect:\n",
    "        A = 0\n",
    "    elif inset and (r_sun > r_moon):\n",
    "        A = np.pi*r_sun**2 - np.pi*r_moon**2\n",
    "    elif inset and (r_sun <= r_moon):\n",
    "        A = np.pi*r_moon**2\n",
    "    else:\n",
    "        R = r_sun\n",
    "        r = r_moon\n",
    "        A = ( r**2 * np.arccos( (d**2 + r**2 - R**2)/(2*d*r))\n",
    "            + R**2 * np.arccos( (d**2 + R**2 - r**2)/(2*d*R))\n",
    "            - 0.5 * np.sqrt((-d+r+R)*(d+r-R)*(d-r+R)*(d+r+R))\n",
    "            )\n",
    "    return A"
   ]
  },
  {
   "cell_type": "code",
   "execution_count": 3,
   "metadata": {
    "collapsed": true
   },
   "outputs": [],
   "source": [
    "R_sun = constants.R_sun\n",
    "R_moon = 1737.1 * u.km\n",
    "\n",
    "def apparent_size(R, distance):\n",
    "    return (R/distance).to(u.arcmin, u.dimensionless_angles())"
   ]
  },
  {
   "cell_type": "code",
   "execution_count": 4,
   "metadata": {
    "collapsed": false,
    "deletable": true,
    "editable": true
   },
   "outputs": [],
   "source": [
    "# UACNJ Jenny Jump - Hope, NJ\n",
    "# http://xjubier.free.fr/en/site_pages/solar_eclipses/TSE_2017_GoogleMapFull.html?Lat=40.90743&Lng=-74.92505&Elv=-1.0&Zoom=4&LC=1\n",
    "# Obscuration: 72.284%\n",
    "# Mag at Max: 0.77541\n",
    "# Moon/Sun size ratio: 1.02879\n",
    "lat         =  40.90743\n",
    "lon         = -74.92505\n",
    "height      = 300e3\n",
    "date_time   = datetime.datetime(2017,8,21,18,43,13)\n",
    "\n",
    "#ec_mag      = eclipse_calc.eclipse_mag(lat,lon,date_time,debug=True)\n",
    "#print(ec_mag)"
   ]
  },
  {
   "cell_type": "code",
   "execution_count": 5,
   "metadata": {
    "collapsed": false,
    "deletable": true,
    "editable": true
   },
   "outputs": [],
   "source": [
    "loc     = EarthLocation.from_geodetic(lon,lat,height)\n",
    "time_aa = Time(date_time)\n",
    "aaframe = AltAz(obstime=time_aa, location=loc)\n",
    "\n",
    "sun_aa  = get_sun(time_aa).transform_to(aaframe)\n",
    "moon_aa = get_moon(time_aa).transform_to(aaframe)\n",
    "sep     = sun_aa.separation(moon_aa)\n",
    "\n",
    "sunsize  = apparent_size(R_sun, sun_aa.distance)\n",
    "moonsize = apparent_size(R_moon, moon_aa.distance)"
   ]
  },
  {
   "cell_type": "code",
   "execution_count": 6,
   "metadata": {
    "collapsed": false
   },
   "outputs": [
    {
     "name": "stdout",
     "output_type": "stream",
     "text": [
      "r_sun_deg:  0.2634228271439189\n",
      "r_moon_deg: 0.27136408131488576\n",
      "sep_deg:    0.1523592318311164\n",
      "intersect:  True\n",
      "inset:      False\n"
     ]
    }
   ],
   "source": [
    "r_sun_deg  = sunsize.to(u.degree).value\n",
    "r_moon_deg = moonsize.to(u.degree).value\n",
    "sep_deg    = sep.degree\n",
    "intersect  = sep_deg <= r_sun_deg + r_moon_deg\n",
    "inset      = sep_deg <= np.abs(r_sun_deg - r_moon_deg)\n",
    "\n",
    "print('r_sun_deg:  {!s}'.format(r_sun_deg))\n",
    "print('r_moon_deg: {!s}'.format(r_moon_deg))\n",
    "print('sep_deg:    {!s}'.format(sep_deg))\n",
    "print('intersect:  {!s}'.format(intersect))\n",
    "print('inset:      {!s}'.format(inset))"
   ]
  },
  {
   "cell_type": "code",
   "execution_count": 13,
   "metadata": {
    "collapsed": false,
    "deletable": true,
    "editable": true
   },
   "outputs": [
    {
     "name": "stdout",
     "output_type": "stream",
     "text": [
      "mag:  0.661431784711\n"
     ]
    }
   ],
   "source": [
    "A   = area_intersect(r_sun_deg,r_moon_deg,sep_deg)\n",
    "mag = A/(np.pi*r_sun_deg**2)\n",
    "\n",
    "if sun_aa.alt.value < 18:\n",
    "    mag = 0\n",
    "print('mag:  {!s}'.format(mag))"
   ]
  },
  {
   "cell_type": "code",
   "execution_count": 8,
   "metadata": {
    "collapsed": false
   },
   "outputs": [
    {
     "data": {
      "image/png": "[encoded data removed]",
      "text/plain": [
       "<matplotlib.figure.Figure at 0x7fc35cdba5c0>"
      ]
     },
     "metadata": {},
     "output_type": "display_data"
    }
   ],
   "source": [
    "sun_circle  = plt.Circle((sun_aa.az.deg, sun_aa.alt.deg), \n",
    "                        sunsize.to(u.deg).value,\n",
    "                        fc='yellow')\n",
    "moon_circle = plt.Circle((moon_aa.az.deg, moon_aa.alt.deg), \n",
    "                         moonsize.to(u.deg).value,\n",
    "                         fc='black', alpha=.5)\n",
    "\n",
    "ax = plt.subplot(aspect=1)\n",
    "ax.add_patch(sun_circle)\n",
    "ax.add_patch(moon_circle)\n",
    "biggest = max(sep.deg, sunsize.to(u.deg).value, moonsize.to(u.deg).value)\n",
    "plt.xlim(sun_aa.az.deg-biggest*1.2, sun_aa.az.deg+biggest*1.2)\n",
    "plt.ylim(sun_aa.alt.deg-biggest*1.2, sun_aa.alt.deg+biggest*1.2)\n",
    "\n",
    "plt.xlabel('Azimuth')\n",
    "plt.ylabel('Altitude');"
   ]
  },
  {
   "cell_type": "code",
   "execution_count": 12,
   "metadata": {
    "collapsed": false
   },
   "outputs": [
    {
     "data": {
      "text/plain": [
       "53.531938802458015"
      ]
     },
     "execution_count": 12,
     "metadata": {},
     "output_type": "execute_result"
    }
   ],
   "source": [
    "sun_aa.alt.value"
   ]
  },
  {
   "cell_type": "code",
   "execution_count": null,
   "metadata": {
    "collapsed": true
   },
   "outputs": [],
   "source": []
  }
 ],
 "metadata": {
  "kernelspec": {
   "display_name": "Python 3",
   "language": "python",
   "name": "python3"
  },
  "language_info": {
   "codemirror_mode": {
    "name": "ipython",
    "version": 3
   },
   "file_extension": ".py",
   "mimetype": "text/x-python",
   "name": "python",
   "nbconvert_exporter": "python",
   "pygments_lexer": "ipython3",
   "version": "3.5.2"
  }
 },
 "nbformat": 4,
 "nbformat_minor": 2
}
